{
 "cells": [
  {
   "cell_type": "code",
   "execution_count": 27,
   "metadata": {},
   "outputs": [],
   "source": [
    "import os\n",
    "import codecs\n",
    "import re\n",
    "\n",
    "import numpy as np\n",
    "import pandas as pd\n",
    "from sklearn.model_selection import train_test_split\n",
    "\n",
    "from xclib.data import data_utils #https://github.com/kunaldahiya/pyxclib"
   ]
  },
  {
   "cell_type": "code",
   "execution_count": 28,
   "metadata": {},
   "outputs": [],
   "source": [
    "save_name = \"amazonCat13\"\n",
    "raw_data_path = \"../data/raw_data/AmazonCat-13K.bow/\"\n",
    "save_path = \"../data/amazonCat13\""
   ]
  },
  {
   "cell_type": "code",
   "execution_count": 29,
   "metadata": {},
   "outputs": [
    {
     "data": {
      "text/plain": [
       "['train.txt', 'Xf.txt', 'test.txt', 'Yf.txt']"
      ]
     },
     "execution_count": 29,
     "metadata": {},
     "output_type": "execute_result"
    }
   ],
   "source": [
    "os.listdir(raw_data_path)"
   ]
  },
  {
   "cell_type": "code",
   "execution_count": 32,
   "metadata": {},
   "outputs": [],
   "source": [
    "def find(array, neq_val=None, filter_ixs=None):\n",
    "    \"\"\"\n",
    "    params:\n",
    "    array: 2D array\n",
    "    neq_val: 0 for user features, labels, and None for label/item features\n",
    "    \"\"\"\n",
    "    vals = array[array!=neq_val]\n",
    "    vals = np.array(vals).flatten()\n",
    "    indeces = np.argwhere(array!=neq_val)+1\n",
    "    indeces_ax0 = indeces[:, 0]\n",
    "    indeces_ax1 = indeces[:, 1]\n",
    "    \n",
    "    return vals, indeces_ax0, indeces_ax1, indeces\n",
    "\n",
    "def save_labels(tr_points, tr_dims, te_points, te_dims, save_path, save_name, reveal_percent=\"\"):\n",
    "    np.savetxt(os.path.join(save_path, f\"{save_name}_trLabelPoint{reveal_percent}.csv\"), tr_points, delimiter=\"\\n\", fmt=\"%-d\")\n",
    "    np.savetxt(os.path.join(save_path, f\"{save_name}_trLabelDim{reveal_percent}.csv\"), tr_dims, delimiter=\"\\n\", fmt=\"%-d\")\n",
    "    np.savetxt(os.path.join(save_path, f\"{save_name}_teLabelPoint{reveal_percent}.csv\"), te_points, delimiter=\"\\n\", fmt=\"%-d\")\n",
    "    np.savetxt(os.path.join(save_path, f\"{save_name}_teLabelDim{reveal_percent}.csv\"), te_dims, delimiter=\"\\n\", fmt=\"%-d\")\n",
    "\n",
    "def format_data(raw_data_path, save_path, save_name):\n",
    "    tr_features, tr_labels, _, _, _ = data_utils.read_data(f'{raw_data_path}/train.txt')\n",
    "    te_features, te_labels, _, _, _ = data_utils.read_data(f'{raw_data_path}/test.txt')\n",
    "    \n",
    "    tr_filter_ixs = np.array((tr_labels.sum(axis=1)>0)&(tr_features.sum(axis=1)>0)).flatten()\n",
    "    tr_features = tr_features[tr_filter_ixs, :]\n",
    "    tr_labels = tr_labels[tr_filter_ixs, :]\n",
    "    \n",
    "    te_filter_ixs = np.array((te_labels.sum(axis=1)>0)&(te_features.sum(axis=1)>0)).flatten()\n",
    "    te_features = te_features[te_filter_ixs, :]\n",
    "    te_labels = te_labels[te_filter_ixs, :]\n",
    "    \n",
    "    _, tr_y_indeces_ax0, tr_y_indeces_ax1, tr_y_indeces = find(tr_labels, 0)\n",
    "    _, te_y_indeces_ax0, te_y_indeces_ax1, te_y_indeces = find(te_labels, 0)\n",
    "    \n",
    "    tr_x_values, tr_x_indeces_ax0, tr_x_indeces_ax1, _ = find(tr_features, 0, tr_filter_ixs)\n",
    "    te_x_values, te_x_indeces_ax0, te_x_indeces_ax1, _ = find(te_features, 0, te_filter_ixs)\n",
    "    \n",
    "    assert set(tr_x_indeces_ax0)==set(tr_y_indeces_ax0)\n",
    "    assert set(te_x_indeces_ax0)==set(te_y_indeces_ax0)\n",
    "    \n",
    "    np.savetxt(os.path.join(save_path, f\"{save_name}_trDataValue.csv\"), tr_x_values, delimiter=\"\\n\")\n",
    "    np.savetxt(os.path.join(save_path, f\"{save_name}_trDataPoint.csv\"), tr_x_indeces_ax0, delimiter=\"\\n\", fmt=\"%-d\")\n",
    "    np.savetxt(os.path.join(save_path, f\"{save_name}_trDataDim.csv\"), tr_x_indeces_ax1, delimiter=\"\\n\", fmt=\"%-d\")\n",
    "    np.savetxt(os.path.join(save_path, f\"{save_name}_teDataValue.csv\"), te_x_values, delimiter=\"\\n\")\n",
    "    np.savetxt(os.path.join(save_path, f\"{save_name}_teDataPoint.csv\"), te_x_indeces_ax0, delimiter=\"\\n\", fmt=\"%-d\")\n",
    "    np.savetxt(os.path.join(save_path, f\"{save_name}_teDataDim.csv\"), te_x_indeces_ax1, delimiter=\"\\n\", fmt=\"%-d\")\n",
    "    save_labels(tr_y_indeces_ax0, tr_y_indeces_ax1, te_y_indeces_ax0, te_y_indeces_ax1, save_path, save_name)"
   ]
  },
  {
   "cell_type": "code",
   "execution_count": 33,
   "metadata": {},
   "outputs": [
    {
     "ename": "OSError",
     "evalue": "[Errno 122] Disk quota exceeded",
     "output_type": "error",
     "traceback": [
      "\u001b[0;31m---------------------------------------------------------------------------\u001b[0m",
      "\u001b[0;31mOSError\u001b[0m                                   Traceback (most recent call last)",
      "\u001b[0;32m/share/apps/anaconda3/2020.07/lib/python3.8/site-packages/numpy/lib/npyio.py\u001b[0m in \u001b[0;36msavetxt\u001b[0;34m(fname, X, fmt, delimiter, newline, header, footer, comments, encoding)\u001b[0m\n\u001b[1;32m   1451\u001b[0m                                     % (str(X.dtype), format))\n\u001b[0;32m-> 1452\u001b[0;31m                 \u001b[0mfh\u001b[0m\u001b[0;34m.\u001b[0m\u001b[0mwrite\u001b[0m\u001b[0;34m(\u001b[0m\u001b[0mv\u001b[0m\u001b[0;34m)\u001b[0m\u001b[0;34m\u001b[0m\u001b[0;34m\u001b[0m\u001b[0m\n\u001b[0m\u001b[1;32m   1453\u001b[0m \u001b[0;34m\u001b[0m\u001b[0m\n",
      "\u001b[0;31mOSError\u001b[0m: [Errno 122] Disk quota exceeded",
      "\nDuring handling of the above exception, another exception occurred:\n",
      "\u001b[0;31mOSError\u001b[0m                                   Traceback (most recent call last)",
      "\u001b[0;31mOSError\u001b[0m: [Errno 122] Disk quota exceeded",
      "\nDuring handling of the above exception, another exception occurred:\n",
      "\u001b[0;31mOSError\u001b[0m                                   Traceback (most recent call last)",
      "\u001b[0;32m<ipython-input-33-baf0052d3bf6>\u001b[0m in \u001b[0;36m<module>\u001b[0;34m\u001b[0m\n\u001b[0;32m----> 1\u001b[0;31m \u001b[0mformat_data\u001b[0m\u001b[0;34m(\u001b[0m\u001b[0mraw_data_path\u001b[0m\u001b[0;34m,\u001b[0m \u001b[0msave_path\u001b[0m\u001b[0;34m,\u001b[0m \u001b[0msave_name\u001b[0m\u001b[0;34m)\u001b[0m\u001b[0;34m\u001b[0m\u001b[0;34m\u001b[0m\u001b[0m\n\u001b[0m",
      "\u001b[0;32m<ipython-input-32-81ab10b7013a>\u001b[0m in \u001b[0;36mformat_data\u001b[0;34m(raw_data_path, save_path, save_name)\u001b[0m\n\u001b[1;32m     42\u001b[0m     \u001b[0mnp\u001b[0m\u001b[0;34m.\u001b[0m\u001b[0msavetxt\u001b[0m\u001b[0;34m(\u001b[0m\u001b[0mos\u001b[0m\u001b[0;34m.\u001b[0m\u001b[0mpath\u001b[0m\u001b[0;34m.\u001b[0m\u001b[0mjoin\u001b[0m\u001b[0;34m(\u001b[0m\u001b[0msave_path\u001b[0m\u001b[0;34m,\u001b[0m \u001b[0;34mf\"{save_name}_trDataValue.csv\"\u001b[0m\u001b[0;34m)\u001b[0m\u001b[0;34m,\u001b[0m \u001b[0mtr_x_values\u001b[0m\u001b[0;34m,\u001b[0m \u001b[0mdelimiter\u001b[0m\u001b[0;34m=\u001b[0m\u001b[0;34m\"\\n\"\u001b[0m\u001b[0;34m)\u001b[0m\u001b[0;34m\u001b[0m\u001b[0;34m\u001b[0m\u001b[0m\n\u001b[1;32m     43\u001b[0m     \u001b[0mnp\u001b[0m\u001b[0;34m.\u001b[0m\u001b[0msavetxt\u001b[0m\u001b[0;34m(\u001b[0m\u001b[0mos\u001b[0m\u001b[0;34m.\u001b[0m\u001b[0mpath\u001b[0m\u001b[0;34m.\u001b[0m\u001b[0mjoin\u001b[0m\u001b[0;34m(\u001b[0m\u001b[0msave_path\u001b[0m\u001b[0;34m,\u001b[0m \u001b[0;34mf\"{save_name}_trDataPoint.csv\"\u001b[0m\u001b[0;34m)\u001b[0m\u001b[0;34m,\u001b[0m \u001b[0mtr_x_indeces_ax0\u001b[0m\u001b[0;34m,\u001b[0m \u001b[0mdelimiter\u001b[0m\u001b[0;34m=\u001b[0m\u001b[0;34m\"\\n\"\u001b[0m\u001b[0;34m,\u001b[0m \u001b[0mfmt\u001b[0m\u001b[0;34m=\u001b[0m\u001b[0;34m\"%-d\"\u001b[0m\u001b[0;34m)\u001b[0m\u001b[0;34m\u001b[0m\u001b[0;34m\u001b[0m\u001b[0m\n\u001b[0;32m---> 44\u001b[0;31m     \u001b[0mnp\u001b[0m\u001b[0;34m.\u001b[0m\u001b[0msavetxt\u001b[0m\u001b[0;34m(\u001b[0m\u001b[0mos\u001b[0m\u001b[0;34m.\u001b[0m\u001b[0mpath\u001b[0m\u001b[0;34m.\u001b[0m\u001b[0mjoin\u001b[0m\u001b[0;34m(\u001b[0m\u001b[0msave_path\u001b[0m\u001b[0;34m,\u001b[0m \u001b[0;34mf\"{save_name}_trDataDim.csv\"\u001b[0m\u001b[0;34m)\u001b[0m\u001b[0;34m,\u001b[0m \u001b[0mtr_x_indeces_ax1\u001b[0m\u001b[0;34m,\u001b[0m \u001b[0mdelimiter\u001b[0m\u001b[0;34m=\u001b[0m\u001b[0;34m\"\\n\"\u001b[0m\u001b[0;34m,\u001b[0m \u001b[0mfmt\u001b[0m\u001b[0;34m=\u001b[0m\u001b[0;34m\"%-d\"\u001b[0m\u001b[0;34m)\u001b[0m\u001b[0;34m\u001b[0m\u001b[0;34m\u001b[0m\u001b[0m\n\u001b[0m\u001b[1;32m     45\u001b[0m     \u001b[0mnp\u001b[0m\u001b[0;34m.\u001b[0m\u001b[0msavetxt\u001b[0m\u001b[0;34m(\u001b[0m\u001b[0mos\u001b[0m\u001b[0;34m.\u001b[0m\u001b[0mpath\u001b[0m\u001b[0;34m.\u001b[0m\u001b[0mjoin\u001b[0m\u001b[0;34m(\u001b[0m\u001b[0msave_path\u001b[0m\u001b[0;34m,\u001b[0m \u001b[0;34mf\"{save_name}_teDataValue.csv\"\u001b[0m\u001b[0;34m)\u001b[0m\u001b[0;34m,\u001b[0m \u001b[0mte_x_values\u001b[0m\u001b[0;34m,\u001b[0m \u001b[0mdelimiter\u001b[0m\u001b[0;34m=\u001b[0m\u001b[0;34m\"\\n\"\u001b[0m\u001b[0;34m)\u001b[0m\u001b[0;34m\u001b[0m\u001b[0;34m\u001b[0m\u001b[0m\n\u001b[1;32m     46\u001b[0m     \u001b[0mnp\u001b[0m\u001b[0;34m.\u001b[0m\u001b[0msavetxt\u001b[0m\u001b[0;34m(\u001b[0m\u001b[0mos\u001b[0m\u001b[0;34m.\u001b[0m\u001b[0mpath\u001b[0m\u001b[0;34m.\u001b[0m\u001b[0mjoin\u001b[0m\u001b[0;34m(\u001b[0m\u001b[0msave_path\u001b[0m\u001b[0;34m,\u001b[0m \u001b[0;34mf\"{save_name}_teDataPoint.csv\"\u001b[0m\u001b[0;34m)\u001b[0m\u001b[0;34m,\u001b[0m \u001b[0mte_x_indeces_ax0\u001b[0m\u001b[0;34m,\u001b[0m \u001b[0mdelimiter\u001b[0m\u001b[0;34m=\u001b[0m\u001b[0;34m\"\\n\"\u001b[0m\u001b[0;34m,\u001b[0m \u001b[0mfmt\u001b[0m\u001b[0;34m=\u001b[0m\u001b[0;34m\"%-d\"\u001b[0m\u001b[0;34m)\u001b[0m\u001b[0;34m\u001b[0m\u001b[0;34m\u001b[0m\u001b[0m\n",
      "\u001b[0;32m<__array_function__ internals>\u001b[0m in \u001b[0;36msavetxt\u001b[0;34m(*args, **kwargs)\u001b[0m\n",
      "\u001b[0;32m/share/apps/anaconda3/2020.07/lib/python3.8/site-packages/numpy/lib/npyio.py\u001b[0m in \u001b[0;36msavetxt\u001b[0;34m(fname, X, fmt, delimiter, newline, header, footer, comments, encoding)\u001b[0m\n\u001b[1;32m   1457\u001b[0m     \u001b[0;32mfinally\u001b[0m\u001b[0;34m:\u001b[0m\u001b[0;34m\u001b[0m\u001b[0;34m\u001b[0m\u001b[0m\n\u001b[1;32m   1458\u001b[0m         \u001b[0;32mif\u001b[0m \u001b[0mown_fh\u001b[0m\u001b[0;34m:\u001b[0m\u001b[0;34m\u001b[0m\u001b[0;34m\u001b[0m\u001b[0m\n\u001b[0;32m-> 1459\u001b[0;31m             \u001b[0mfh\u001b[0m\u001b[0;34m.\u001b[0m\u001b[0mclose\u001b[0m\u001b[0;34m(\u001b[0m\u001b[0;34m)\u001b[0m\u001b[0;34m\u001b[0m\u001b[0;34m\u001b[0m\u001b[0m\n\u001b[0m\u001b[1;32m   1460\u001b[0m \u001b[0;34m\u001b[0m\u001b[0m\n\u001b[1;32m   1461\u001b[0m \u001b[0;34m\u001b[0m\u001b[0m\n",
      "\u001b[0;31mOSError\u001b[0m: [Errno 122] Disk quota exceeded"
     ]
    }
   ],
   "source": [
    "format_data(raw_data_path, save_path, save_name)"
   ]
  },
  {
   "cell_type": "code",
   "execution_count": null,
   "metadata": {},
   "outputs": [],
   "source": []
  }
 ],
 "metadata": {
  "kernelspec": {
   "display_name": "Python 3",
   "language": "python",
   "name": "python3"
  },
  "language_info": {
   "codemirror_mode": {
    "name": "ipython",
    "version": 3
   },
   "file_extension": ".py",
   "mimetype": "text/x-python",
   "name": "python",
   "nbconvert_exporter": "python",
   "pygments_lexer": "ipython3",
   "version": "3.8.5"
  }
 },
 "nbformat": 4,
 "nbformat_minor": 4
}